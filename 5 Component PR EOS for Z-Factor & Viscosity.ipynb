{
 "cells": [
  {
   "cell_type": "markdown",
   "id": "8e7ea72d",
   "metadata": {},
   "source": [
    "# Extending to five Component PR EOS\n",
    "## Hydrocarbon Gas, CO2, H2S, N2 and H2"
   ]
  },
  {
   "cell_type": "code",
   "execution_count": 1,
   "id": "a3cf59aa",
   "metadata": {},
   "outputs": [],
   "source": [
    "from matplotlib import pyplot as plt\n",
    "import matplotlib.colors as mcolors\n",
    "import pandas as pd\n",
    "import seaborn as sns\n",
    "import numpy as np\n",
    "#import pyrestoolbox as rtb\n",
    "import pr_z_v12 as pr_z\n",
    "R, mwAir, degF2R = 10.731577089016, 28.97, 459.67"
   ]
  },
  {
   "cell_type": "code",
   "execution_count": 2,
   "id": "9878f248",
   "metadata": {},
   "outputs": [
    {
     "name": "stdout",
     "output_type": "stream",
     "text": [
      "100% 0.7 SG Hydrocarbon @ 3200 psia and 180 degF\n",
      "Z = 0.851398\n",
      "Viscosity = 0.022499 cP\n"
     ]
    }
   ],
   "source": [
    "# Pure Hydrocarbon Z-Factor and Viscosity\n",
    "sg = 0.75   # sg of mixture (not of the pure hydrocarbon)\n",
    "degf = 180 # degf\n",
    "psia = 3200 # psia\n",
    "co2, h2s, n2, h2 = 0.0, 0.0, 0.0, 0.0 # Zero inert fraction\n",
    " \n",
    "Z = pr_z.peng_robinson_z(degf, psia, sg = sg, co2=co2, h2s=h2s, n2=n2, h2 = h2)\n",
    "visc = pr_z.lbc(Z, degf, psia, sg = sg, co2=co2, h2s=h2s, n2=n2, h2 = h2)\n",
    "\n",
    "print('100% 0.7 SG Hydrocarbon @ '+str(psia)+' psia and '+str(degf)+' degF')\n",
    "print('Z =', round(Z, 6))\n",
    "print('Viscosity =', round(visc, 6), 'cP')"
   ]
  },
  {
   "cell_type": "code",
   "execution_count": 3,
   "id": "4d964126-2a41-421b-8b37-5e7ee0e40b8b",
   "metadata": {},
   "outputs": [
    {
     "name": "stdout",
     "output_type": "stream",
     "text": [
      "100% CO2 @ 3200 psia and 180 degF\n",
      "Z = 0.531031\n",
      "Viscosity = 0.050389 cP\n"
     ]
    }
   ],
   "source": [
    "# Pure CO2 Z-Factor and Viscosity\n",
    "degf = 180 # degf\n",
    "psia = 3200 # psia\n",
    "co2, h2s, n2, h2 = 1.0, 0.0, 0.0, 0.0\n",
    "\n",
    "Z = pr_z.peng_robinson_z(degf, psia, sg = 0.7, co2=co2, h2s=h2s, n2=n2, h2 = h2)\n",
    "visc = pr_z.lbc(Z, degf, psia, sg = 0.7, co2=co2, h2s=h2s, n2=n2, h2 = h2)\n",
    "\n",
    "print('100% CO2 @ '+str(psia)+' psia and '+str(degf)+' degF')\n",
    "print('Z =', round(Z, 6))\n",
    "print('Viscosity =', round(visc, 6), 'cP')"
   ]
  },
  {
   "cell_type": "code",
   "execution_count": 4,
   "id": "949606af-37d7-4f41-a8f8-5c69ad1d0910",
   "metadata": {},
   "outputs": [
    {
     "name": "stdout",
     "output_type": "stream",
     "text": [
      "100% H2S @ 3200 psia and 180 degF\n",
      "Z = 0.365694\n",
      "Viscosity = 0.089073 cP\n"
     ]
    }
   ],
   "source": [
    "# 100% H2S Z-Factor and Viscosity\n",
    "co2, h2s, n2, h2 = 0.0, 1.0, 0.0, 0.0\n",
    "\n",
    "Z = pr_z.peng_robinson_z(degf, psia, sg = 0.7, co2=co2, h2s=h2s, n2=n2, h2 = h2)\n",
    "visc = pr_z.lbc(Z, degf, psia, sg = 0.7, co2=co2, h2s=h2s, n2=n2, h2 = h2)\n",
    "\n",
    "print('100% H2S @ '+str(psia)+' psia and '+str(degf)+' degF')\n",
    "print('Z =', round(Z, 6))\n",
    "print('Viscosity =', round(visc, 6), 'cP')"
   ]
  },
  {
   "cell_type": "code",
   "execution_count": 5,
   "id": "795864f0-a3cf-469a-9f9b-36c539e70b4d",
   "metadata": {},
   "outputs": [
    {
     "name": "stdout",
     "output_type": "stream",
     "text": [
      "100% N2 @ 3200 psia and 180 degF\n",
      "Z = 1.105497\n",
      "Viscosity = 0.02395 cP\n"
     ]
    }
   ],
   "source": [
    "# 100% N2 Z-Factor and Viscosity\n",
    "co2, h2s, n2, h2 = 0.0, 0.0, 1.0, 0.0\n",
    "\n",
    "Z = pr_z.peng_robinson_z(degf, psia, sg = 0.7, co2=co2, h2s=h2s, n2=n2, h2 = h2)\n",
    "visc = pr_z.lbc(Z, degf, psia, sg = 0.7, co2=co2, h2s=h2s, n2=n2, h2 = h2)\n",
    "\n",
    "print('100% N2 @ '+str(psia)+' psia and '+str(degf)+' degF')\n",
    "print('Z =', round(Z, 6))\n",
    "print('Viscosity =', round(visc, 6), 'cP')"
   ]
  },
  {
   "cell_type": "code",
   "execution_count": 6,
   "id": "329a06fc-42e8-41c0-88bc-c5cc0f0f5843",
   "metadata": {},
   "outputs": [
    {
     "name": "stdout",
     "output_type": "stream",
     "text": [
      "100% H2 @ 3200 psia and 180 degF\n",
      "Z = 1.103739\n",
      "Viscosity = 0.010663 cP\n"
     ]
    }
   ],
   "source": [
    "# 100% H2 Z-Factor and Viscosity\n",
    "co2, h2s, n2, h2 = 0.0, 0.0, 0.0, 1.0\n",
    "\n",
    "Z = pr_z.peng_robinson_z(degf, psia, sg = 0.7, co2=co2, h2s=h2s, n2=n2, h2 = h2)\n",
    "visc = pr_z.lbc(Z, degf, psia, sg = 0.7, co2=co2, h2s=h2s, n2=n2, h2 = h2)\n",
    "\n",
    "print('100% H2 @ '+str(psia)+' psia and '+str(degf)+' degF')\n",
    "print('Z =', round(Z, 6))\n",
    "print('Viscosity =', round(visc, 6), 'cP')"
   ]
  },
  {
   "cell_type": "code",
   "execution_count": 7,
   "id": "12bd8d83-1bc0-4ccc-b1ba-665eb73a74b4",
   "metadata": {},
   "outputs": [
    {
     "name": "stdout",
     "output_type": "stream",
     "text": [
      "Z = 0.8975\n",
      "Viscosity = 0.021369 cP\n"
     ]
    }
   ],
   "source": [
    "# 27% inerts mixture Z-Factor and Viscosity\n",
    "sg = 0.75   # sg of mixture (not of the pure hydrocarbon)\n",
    "co2, h2s, n2, h2 = 0.2, 0.02, 0.04, 0.01\n",
    "\n",
    "Z = pr_z.peng_robinson_z(degf, psia, sg = 0.7, co2=co2, h2s=h2s, n2=n2, h2 = h2)\n",
    "visc = pr_z.lbc(Z, degf, psia, sg = 0.7, co2=co2, h2s=h2s, n2=n2, h2 = h2)\n",
    "\n",
    "print('Z =', round(Z, 6))\n",
    "print('Viscosity =', round(visc, 6), 'cP')"
   ]
  },
  {
   "cell_type": "code",
   "execution_count": null,
   "id": "b4a30d04-ebe9-4fb2-bd16-1bd338fdec5a",
   "metadata": {},
   "outputs": [],
   "source": []
  },
  {
   "cell_type": "code",
   "execution_count": null,
   "id": "156401a2",
   "metadata": {},
   "outputs": [],
   "source": []
  }
 ],
 "metadata": {
  "kernelspec": {
   "display_name": "Python 3 (ipykernel)",
   "language": "python",
   "name": "python3"
  },
  "language_info": {
   "codemirror_mode": {
    "name": "ipython",
    "version": 3
   },
   "file_extension": ".py",
   "mimetype": "text/x-python",
   "name": "python",
   "nbconvert_exporter": "python",
   "pygments_lexer": "ipython3",
   "version": "3.10.9"
  }
 },
 "nbformat": 4,
 "nbformat_minor": 5
}
